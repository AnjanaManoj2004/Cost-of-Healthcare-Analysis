{
 "cells": [
  {
   "cell_type": "code",
   "execution_count": 11,
   "id": "60d99a8b-ea15-4094-ba90-0efcff351041",
   "metadata": {},
   "outputs": [
    {
     "name": "stdout",
     "output_type": "stream",
     "text": [
      "PPH Long Format:\n",
      "                                     Condition State  PPH_per_1000\n",
      "1  Pneumonia and vaccine-preventable influenza   NSW           0.9\n",
      "2         Other vaccine-preventable conditions   NSW           0.8\n",
      "3      Total vaccine-preventable conditions(c)   NSW           1.7\n",
      "5          Pneumonia (not vaccine-preventable)   NSW           0.0\n",
      "6                                   Cellulitis   NSW           1.9\n",
      "\n",
      "Cleaned Expenditure Data:\n",
      "         Year Jurisdiction     Sector  Cost_per_person\n",
      "6520  2022-23          ACT  Hospitals             84.0\n",
      "6521  2022-23          ACT  Hospitals            129.0\n",
      "6522  2022-23          ACT  Hospitals            101.0\n",
      "6523  2022-23          ACT  Hospitals            302.0\n",
      "6524  2022-23          ACT  Hospitals            241.0\n",
      "\n",
      "Merged Cost vs Outcome Data:\n",
      "                                     Condition State  PPH_per_1000     Year  \\\n",
      "0  Pneumonia and vaccine-preventable influenza   NSW           0.9  2022-23   \n",
      "1  Pneumonia and vaccine-preventable influenza   NSW           0.9  2022-23   \n",
      "2  Pneumonia and vaccine-preventable influenza   NSW           0.9  2022-23   \n",
      "3  Pneumonia and vaccine-preventable influenza   NSW           0.9  2022-23   \n",
      "4  Pneumonia and vaccine-preventable influenza   NSW           0.9  2022-23   \n",
      "\n",
      "  Jurisdiction     Sector  Cost_per_person   Cost_per_PPH  \n",
      "0          NSW  Hospitals             18.0   20000.000000  \n",
      "1          NSW  Hospitals            119.0  132222.222222  \n",
      "2          NSW  Hospitals            121.0  134444.444444  \n",
      "3          NSW  Hospitals            360.0  400000.000000  \n",
      "4          NSW  Hospitals             74.0   82222.222222  \n"
     ]
    }
   ],
   "source": [
    "# Import necessary libraries\n",
    "import pandas as pd\n",
    "import os\n",
    "\n",
    "# Clean Datasets and Merge\n",
    "\n",
    "# Clean PPH dataset\n",
    "pph_df = pd.read_csv(\"8-admitted-patient-care-2022-23-tables-safety-and-quality_1.csv\", skiprows=1)\n",
    "pph_df.rename(columns={pph_df.columns[0]: 'Condition'}, inplace=True)\n",
    "pph_df = pph_df.drop(columns=[col for col in pph_df.columns if 'Total' in col or 'Unnamed' in col], errors='ignore')\n",
    "\n",
    "pph_long = pph_df.melt(id_vars=['Condition'], var_name='State', value_name='PPH_per_1000')\n",
    "pph_long.dropna(inplace=True)\n",
    "pph_long['PPH_per_1000'] = pd.to_numeric(pph_long['PPH_per_1000'], errors='coerce')\n",
    "\n",
    "# Clean expenditure dataset\n",
    "expenditure_df = pd.read_csv(\"HWE-101-Health-Expenditure-Australia-datacube-2022-23.csv\", skiprows=7)\n",
    "expenditure_df.columns = [col.strip() for col in expenditure_df.columns]\n",
    "\n",
    "expenditure_df = expenditure_df[['Year', 'Jurisdiction', 'Sector', 'Current per person ($)']]\n",
    "expenditure_df = expenditure_df.rename(columns={'Current per person ($)': 'Cost_per_person'})\n",
    "\n",
    "expenditure_df['Cost_per_person'] = (\n",
    "    expenditure_df['Cost_per_person']\n",
    "    .astype(str)\n",
    "    .str.replace(',', '', regex=False)\n",
    "    .astype(float)\n",
    ")\n",
    "\n",
    "expenditure_df = expenditure_df[\n",
    "    (expenditure_df['Year'].astype(str).str.contains('2022')) &\n",
    "    (expenditure_df['Sector'].str.contains('Hospital', na=False))\n",
    "]\n",
    "\n",
    "# Merge datasets\n",
    "merged_df = pph_long.merge(expenditure_df, left_on='State', right_on='Jurisdiction', how='inner')\n",
    "merged_df['Cost_per_PPH'] = (merged_df['Cost_per_person'] * 1000) / merged_df['PPH_per_1000']\n",
    "\n",
    "# Save cleaned datasets\n",
    "os.makedirs(\"data/processed\", exist_ok=True)\n",
    "\n",
    "pph_long.to_csv('data/processed/cleaned_pph.csv', index=False)\n",
    "expenditure_df.to_csv('data/processed/cleaned_expenditure.csv', index=False)\n",
    "merged_df.to_csv('data/processed/master_cost_outcome.csv', index=False)\n",
    "\n",
    "# Preview outputs \n",
    "print(\"PPH Long Format:\")\n",
    "print(pph_long.head())\n",
    "\n",
    "print(\"\\nCleaned Expenditure Data:\")\n",
    "print(expenditure_df.head())\n",
    "\n",
    "print(\"\\nMerged Cost vs Outcome Data:\")\n",
    "print(merged_df.head())\n"
   ]
  },
  {
   "cell_type": "code",
   "execution_count": null,
   "id": "4add0d4a-6d95-480c-876c-3ae30a9f6416",
   "metadata": {},
   "outputs": [],
   "source": []
  },
  {
   "cell_type": "code",
   "execution_count": null,
   "id": "ce9add7b-623a-4b33-b8cd-cea99ede31f0",
   "metadata": {},
   "outputs": [],
   "source": []
  },
  {
   "cell_type": "code",
   "execution_count": null,
   "id": "28db25d7-6a47-4eab-b505-7005736bcf65",
   "metadata": {},
   "outputs": [],
   "source": []
  }
 ],
 "metadata": {
  "kernelspec": {
   "display_name": "Python 3 (ipykernel)",
   "language": "python",
   "name": "python3"
  },
  "language_info": {
   "codemirror_mode": {
    "name": "ipython",
    "version": 3
   },
   "file_extension": ".py",
   "mimetype": "text/x-python",
   "name": "python",
   "nbconvert_exporter": "python",
   "pygments_lexer": "ipython3",
   "version": "3.13.5"
  }
 },
 "nbformat": 4,
 "nbformat_minor": 5
}
